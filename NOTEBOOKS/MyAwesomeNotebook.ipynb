{
 "cells": [
  {
   "cell_type": "markdown",
   "id": "76b6a15b-67ab-463c-a96e-13c063791c8e",
   "metadata": {},
   "source": [
    "# My notebook"
   ]
  },
  {
   "cell_type": "code",
   "execution_count": 1,
   "id": "cd5f385c-9508-48ed-a0ab-b5a95d29ea15",
   "metadata": {},
   "outputs": [],
   "source": [
    "import requests"
   ]
  },
  {
   "cell_type": "code",
   "execution_count": null,
   "id": "7835827e-0568-41d6-b9b5-0db18a7a6580",
   "metadata": {},
   "outputs": [],
   "source": [
    "# yadda yadda yadda"
   ]
  }
 ],
 "metadata": {
  "kernelspec": {
   "display_name": "Python 3 (ipykernel)",
   "language": "python",
   "name": "python3"
  },
  "language_info": {
   "codemirror_mode": {
    "name": "ipython",
    "version": 3
   },
   "file_extension": ".py",
   "mimetype": "text/x-python",
   "name": "python",
   "nbconvert_exporter": "python",
   "pygments_lexer": "ipython3",
   "version": "3.11.6"
  }
 },
 "nbformat": 4,
 "nbformat_minor": 5
}
